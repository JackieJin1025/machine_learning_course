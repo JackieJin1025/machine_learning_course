{
 "cells": [
  {
   "cell_type": "code",
   "execution_count": 5,
   "metadata": {},
   "outputs": [],
   "source": [
    "import numpy as np\n",
    "import pandas as pd\n",
    "import matplotlib.pyplot as plt\n",
    "from scipy.io import loadmat\n",
    "import os\n",
    "%matplotlib inline"
   ]
  },
  {
   "cell_type": "code",
   "execution_count": 207,
   "metadata": {},
   "outputs": [],
   "source": [
    "base_dir = \"/Users/Jackie/Dropbox/Work/machine_learning/hw/machine-learning-ex8/ex8\"\n",
    "data = loadmat(os.path.join(base_dir, 'ex8data1.mat'))\n",
    "X = data['X']\n",
    "Xval = data['Xval']\n",
    "yval = data['yval'].ravel()"
   ]
  },
  {
   "cell_type": "code",
   "execution_count": 208,
   "metadata": {},
   "outputs": [
    {
     "data": {
      "text/plain": [
       "array([0, 0, 0, 0, 0, 0, 0, 0, 0, 1, 0, 0, 0, 0, 0, 0, 0, 0, 0, 0, 0, 0,\n",
       "       0, 0, 0, 0, 0, 0, 0, 0, 0, 0, 0, 0, 0, 0, 0, 0, 0, 0, 0, 0, 0, 0,\n",
       "       0, 0, 0, 0, 0, 1, 0, 0, 0, 0, 0, 0, 0, 0, 0, 0, 0, 0, 0, 0, 0, 0,\n",
       "       0, 0, 0, 0, 0, 0, 0, 0, 0, 0, 0, 0, 0, 0, 0, 0, 0, 0, 0, 0, 0, 0,\n",
       "       0, 0, 0, 0, 0, 0, 0, 0, 0, 0, 0, 0, 0, 0, 0, 0, 0, 0, 0, 0, 0, 0,\n",
       "       0, 0, 0, 0, 0, 0, 0, 0, 0, 0, 0, 0, 0, 0, 0, 0, 0, 0, 0, 0, 0, 0,\n",
       "       0, 0, 0, 0, 0, 0, 0, 0, 0, 0, 0, 0, 0, 0, 0, 0, 0, 0, 0, 0, 0, 0,\n",
       "       0, 0, 0, 0, 0, 0, 0, 0, 0, 0, 0, 0, 0, 0, 0, 0, 0, 0, 0, 0, 0, 0,\n",
       "       0, 0, 0, 0, 0, 0, 0, 0, 0, 0, 0, 0, 0, 0, 0, 0, 0, 0, 0, 0, 0, 0,\n",
       "       0, 0, 0, 0, 0, 0, 0, 0, 0, 0, 0, 0, 0, 0, 0, 0, 0, 0, 0, 0, 0, 0,\n",
       "       0, 0, 0, 0, 0, 0, 0, 0, 0, 0, 0, 0, 0, 0, 0, 0, 0, 0, 0, 0, 0, 0,\n",
       "       0, 0, 0, 0, 0, 0, 0, 0, 0, 0, 0, 0, 0, 0, 0, 0, 0, 0, 0, 0, 0, 0,\n",
       "       0, 0, 0, 0, 0, 0, 0, 0, 0, 0, 0, 0, 0, 0, 0, 0, 0, 0, 0, 0, 0, 0,\n",
       "       0, 0, 0, 0, 0, 0, 0, 0, 0, 0, 0, 0, 0, 0, 1, 1, 1, 1, 1, 1, 1],\n",
       "      dtype=uint8)"
      ]
     },
     "execution_count": 208,
     "metadata": {},
     "output_type": "execute_result"
    }
   ],
   "source": [
    "yval"
   ]
  },
  {
   "cell_type": "code",
   "execution_count": 209,
   "metadata": {},
   "outputs": [
    {
     "data": {
      "text/plain": [
       "<matplotlib.text.Text at 0x11c0a5550>"
      ]
     },
     "execution_count": 209,
     "metadata": {},
     "output_type": "execute_result"
    },
    {
     "data": {
      "image/png": "[encoded data removed]",
      "text/plain": [
       "<matplotlib.figure.Figure at 0x11c439710>"
      ]
     },
     "metadata": {},
     "output_type": "display_data"
    }
   ],
   "source": [
    "fig, ax = plt.subplots(figsize=(16,9))\n",
    "ax.plot(X[:, 0], X[:, 1], 'bx')\n",
    "ax.set_xlim(0, 30)\n",
    "ax.set_ylim(0, 30)\n",
    "ax.set_xlabel('Latency (ms)')\n",
    "ax.set_ylabel('Throughput (mb/s)')"
   ]
  },
  {
   "cell_type": "code",
   "execution_count": 210,
   "metadata": {},
   "outputs": [],
   "source": [
    "# Estimate mu and sigma \n",
    "def estimateGaussian(X):\n",
    "    \"\"\"\n",
    "    %ESTIMATEGAUSSIAN This function estimates the parameters of a \n",
    "    %Gaussian distribution using the data in X\n",
    "    %   [mu sigma2] = estimateGaussian(X), \n",
    "    %   The input X is the dataset with each n-dimensional data point in one row\n",
    "    %   The output is an n-dimensional vector mu, the mean of the data set\n",
    "    %   and the variances sigma^2, an n x 1 vector\n",
    "    %     \n",
    "    \"\"\"\n",
    "    m, n = X.shape\n",
    "    mu = np.mean(X, axis=0)\n",
    "    sigma2 = np.std(X, axis=0) ** 2 \n",
    "    return mu, sigma2\n",
    "\n",
    "mu, sigma2 = estimateGaussian(X)"
   ]
  },
  {
   "cell_type": "code",
   "execution_count": 211,
   "metadata": {},
   "outputs": [
    {
     "name": "stdout",
     "output_type": "stream",
     "text": [
      "0.08986095083415363\n",
      "1.1812091168967608e-23\n"
     ]
    },
    {
     "data": {
      "text/plain": [
       "array([0.06470829, 0.05030417, 0.07245035, 0.05031575, 0.06368497])"
      ]
     },
     "execution_count": 211,
     "metadata": {},
     "output_type": "execute_result"
    }
   ],
   "source": [
    "def multivariateGaussian(X, mu, sigma2):\n",
    "    \"\"\"\n",
    "    %MULTIVARIATEGAUSSIAN Computes the probability density function of the\n",
    "    %multivariate gaussian distribution.\n",
    "    %    p = MULTIVARIATEGAUSSIAN(X, mu, Sigma2) Computes the probability \n",
    "    %    density function of the examples X under the multivariate gaussian \n",
    "    %    distribution with parameters mu and Sigma2. If Sigma2 is a matrix, it is\n",
    "    %    treated as the covariance matrix. If Sigma2 is a vector, it is treated\n",
    "    %    as the \\sigma^2 values of the variances in each dimension (a diagonal\n",
    "    %    covariance matrix)\n",
    "    %    \n",
    "    \"\"\"\n",
    "    k = len(mu)\n",
    "    if len(sigma2.shape) == 1:\n",
    "        sigma2 = np.diag(sigma2)         \n",
    "    \n",
    "    X = X - mu\n",
    "    sigma2_det = np.linalg.det(sigma2)\n",
    "    sigma2_inv = np.linalg.inv(sigma2)\n",
    "    norm_const = (2*np.pi)**(-k/2) * sigma2_det ** (-0.5) \n",
    "    res = np.exp(-0.5 * np.sum(X.dot(sigma2_inv) *X, 1))\n",
    "    p = norm_const * res\n",
    "    return p \n",
    "\n",
    "p = multivariateGaussian(X, mu, sigma2)\n",
    "print(np.max(p))\n",
    "print(np.min(p))\n",
    "p[:5]"
   ]
  },
  {
   "cell_type": "code",
   "execution_count": 212,
   "metadata": {},
   "outputs": [
    {
     "name": "stdout",
     "output_type": "stream",
     "text": [
      "8.990852779269493e-05 0.8750000000000001\n",
      "outliers found 6\n"
     ]
    },
    {
     "name": "stderr",
     "output_type": "stream",
     "text": [
      "/Users/Jackie/anaconda/lib/python3.6/site-packages/ipykernel_launcher.py:22: RuntimeWarning: invalid value encountered in double_scalars\n"
     ]
    }
   ],
   "source": [
    "def selectThreshold(yval, pval):\n",
    "    \"\"\"\n",
    "    %SELECTTHRESHOLD Find the best threshold (epsilon) to use for selecting\n",
    "    %outliers\n",
    "    %   [bestEpsilon bestF1] = SELECTTHRESHOLD(yval, pval) finds the best\n",
    "    %   threshold to use for selecting outliers based on the results from a\n",
    "    %   validation set (pval) and the ground truth (yval).\n",
    "    %   in yval, 1 means anormaly  \n",
    "    \"\"\"\n",
    "    bestEpsilon = 0\n",
    "    bestF1 = 0\n",
    "    F1 = 0 \n",
    "    pmax =np.max(pval)\n",
    "    pmin =np.min(pval)\n",
    "    stepsize = (pmax - pmin)/ 1000    \n",
    "    for epsilon in np.arange(pmin, pmax+stepsize, stepsize):\n",
    "        predicted = pval < epsilon\n",
    "        \n",
    "        tp = np.sum((predicted == 1) & (yval == 1)).astype(float) \n",
    "        fp = np.sum((predicted == 1) & (yval == 0)).astype(float) \n",
    "        fn = np.sum((predicted == 0) & (yval == 1)).astype(float)  \n",
    "        precision = tp / (tp + fp)\n",
    "        recall = tp /(tp + fn)\n",
    "        \n",
    "        F1 = 2 * precision * recall / (precision + recall)\n",
    "                    \n",
    "        if F1 > bestF1:\n",
    "            bestF1 = F1\n",
    "            bestEpsilon = epsilon \n",
    "    \n",
    "    return bestEpsilon, bestF1\n",
    "\n",
    "pval = multivariateGaussian(Xval, mu, sigma2)\n",
    "epsilon, f1 = selectThreshold(yval, pval)\n",
    "print (epsilon, f1)\n",
    "print(\"outliers found\", np.sum(p < epsilon))"
   ]
  },
  {
   "cell_type": "markdown",
   "metadata": {},
   "source": [
    "# Part 4: Multidimensional Outliers"
   ]
  },
  {
   "cell_type": "code",
   "execution_count": 213,
   "metadata": {
    "collapsed": true
   },
   "outputs": [],
   "source": [
    "data2 = loadmat(os.path.join(base_dir, 'ex8data2.mat'))"
   ]
  },
  {
   "cell_type": "code",
   "execution_count": 214,
   "metadata": {},
   "outputs": [],
   "source": [
    "X = data2['X']\n",
    "Xval = data2['Xval']\n",
    "yval = data2['yval'].ravel()"
   ]
  },
  {
   "cell_type": "code",
   "execution_count": 215,
   "metadata": {},
   "outputs": [
    {
     "name": "stdout",
     "output_type": "stream",
     "text": [
      "(1000, 11) (11,) (11,)\n"
     ]
    }
   ],
   "source": [
    "mu, sigma2 = estimateGaussian(X)\n",
    "print(X.shape, mu.shape, sigma2.shape)"
   ]
  },
  {
   "cell_type": "code",
   "execution_count": 216,
   "metadata": {},
   "outputs": [
    {
     "name": "stderr",
     "output_type": "stream",
     "text": [
      "/Users/Jackie/anaconda/lib/python3.6/site-packages/ipykernel_launcher.py:22: RuntimeWarning: invalid value encountered in double_scalars\n"
     ]
    }
   ],
   "source": [
    "p = multivariateGaussian(X, mu, sigma2)\n",
    "pval = multivariateGaussian(Xval, mu, sigma2)\n",
    "epsilon, F1 = selectThreshold(yval, pval)"
   ]
  },
  {
   "cell_type": "code",
   "execution_count": 217,
   "metadata": {},
   "outputs": [
    {
     "name": "stdout",
     "output_type": "stream",
     "text": [
      "1.3772288907613575e-18 0.6153846153846154\n",
      "outliers found 117\n"
     ]
    }
   ],
   "source": [
    "print(epsilon, F1)\n",
    "print(\"outliers found\", np.sum(p < epsilon))"
   ]
  },
  {
   "cell_type": "markdown",
   "metadata": {},
   "source": [
    "# Collaborative Filtering"
   ]
  },
  {
   "cell_type": "code",
   "execution_count": 218,
   "metadata": {
    "collapsed": true
   },
   "outputs": [],
   "source": [
    "data = loadmat(os.path.join(base_dir, 'ex8_movies.mat'))"
   ]
  },
  {
   "cell_type": "code",
   "execution_count": 223,
   "metadata": {},
   "outputs": [
    {
     "name": "stdout",
     "output_type": "stream",
     "text": [
      "(1682, 943) (1682, 943)\n"
     ]
    }
   ],
   "source": [
    "\"\"\"\n",
    "%  Y is a 1682x943 matrix, containing ratings (1-5) of 1682 movies on \n",
    "%  943 users\n",
    "%\n",
    "%  R is a 1682x943 matrix, where R(i,j) = 1 if and only if user j gave a\n",
    "%  rating to movie i\n",
    "\"\"\"\n",
    "Y = data['Y']\n",
    "R = data['R']\n",
    "print(Y.shape, R.shape)"
   ]
  },
  {
   "cell_type": "code",
   "execution_count": 222,
   "metadata": {},
   "outputs": [
    {
     "data": {
      "text/plain": [
       "array([[5, 4, 0, ..., 5, 0, 0],\n",
       "       [3, 0, 0, ..., 0, 0, 5],\n",
       "       [4, 0, 0, ..., 0, 0, 0],\n",
       "       ...,\n",
       "       [0, 0, 0, ..., 0, 0, 0],\n",
       "       [0, 0, 0, ..., 0, 0, 0],\n",
       "       [0, 0, 0, ..., 0, 0, 0]], dtype=uint8)"
      ]
     },
     "execution_count": 222,
     "metadata": {},
     "output_type": "execute_result"
    }
   ],
   "source": [
    "Y"
   ]
  },
  {
   "cell_type": "code",
   "execution_count": 224,
   "metadata": {},
   "outputs": [
    {
     "data": {
      "text/plain": [
       "array([[1, 1, 0, ..., 1, 0, 0],\n",
       "       [1, 0, 0, ..., 0, 0, 1],\n",
       "       [1, 0, 0, ..., 0, 0, 0],\n",
       "       ...,\n",
       "       [0, 0, 0, ..., 0, 0, 0],\n",
       "       [0, 0, 0, ..., 0, 0, 0],\n",
       "       [0, 0, 0, ..., 0, 0, 0]], dtype=uint8)"
      ]
     },
     "execution_count": 224,
     "metadata": {},
     "output_type": "execute_result"
    }
   ],
   "source": [
    "R"
   ]
  },
  {
   "cell_type": "code",
   "execution_count": 230,
   "metadata": {},
   "outputs": [
    {
     "data": {
      "text/plain": [
       "<matplotlib.text.Text at 0x11c085eb8>"
      ]
     },
     "execution_count": 230,
     "metadata": {},
     "output_type": "execute_result"
    },
    {
     "data": {
      "image/png": "[encoded data removed]",
      "text/plain": [
       "<matplotlib.figure.Figure at 0x11cf0ecf8>"
      ]
     },
     "metadata": {},
     "output_type": "display_data"
    }
   ],
   "source": [
    "fig, ax = plt.subplots(figsize=(16, 9))\n",
    "ax.imshow(Y, extent=[0, 1, 0, 1])            \n",
    "ax.set_xlabel(\"Users\")\n",
    "ax.set_ylabel(\"Movies\")"
   ]
  },
  {
   "cell_type": "code",
   "execution_count": 310,
   "metadata": {
    "collapsed": true
   },
   "outputs": [],
   "source": [
    "data = loadmat(os.path.join(base_dir, 'ex8_movieParams.mat'))"
   ]
  },
  {
   "cell_type": "code",
   "execution_count": 311,
   "metadata": {},
   "outputs": [],
   "source": [
    "Theta = data['Theta']\n",
    "X = data['X']\n",
    "num_features = data['num_features'][0][0]\n",
    "num_movies = data['num_movies'][0][0]\n",
    "num_users = data['num_users'][0][0]"
   ]
  },
  {
   "cell_type": "code",
   "execution_count": 312,
   "metadata": {},
   "outputs": [
    {
     "data": {
      "text/plain": [
       "943"
      ]
     },
     "execution_count": 312,
     "metadata": {},
     "output_type": "execute_result"
    }
   ],
   "source": [
    "num_users"
   ]
  },
  {
   "cell_type": "code",
   "execution_count": 238,
   "metadata": {},
   "outputs": [],
   "source": [
    "num_users = 4; num_movies = 5; num_features = 3;\n",
    "X = X[:num_movies, :num_features]\n",
    "Theta = Theta[:num_users, :num_features]\n",
    "Y = Y[:num_movies, :num_users]\n",
    "R = R[:num_movies, :num_users]"
   ]
  },
  {
   "cell_type": "code",
   "execution_count": 261,
   "metadata": {},
   "outputs": [
    {
     "name": "stdout",
     "output_type": "stream",
     "text": [
      "[[5 4 0 0]\n",
      " [3 0 0 0]\n",
      " [4 0 0 0]\n",
      " [3 0 0 0]\n",
      " [3 0 0 0]]\n",
      "[[ 1.0486855  -0.40023196  1.19411945]\n",
      " [ 0.78085123 -0.38562591  0.52119779]\n",
      " [ 0.64150886 -0.54785385 -0.08379638]\n",
      " [ 0.45361782 -0.80021844  0.68048129]\n",
      " [ 0.93753789  0.1060899   0.36195295]]\n",
      "[[1 1 0 0]\n",
      " [1 0 0 0]\n",
      " [1 0 0 0]\n",
      " [1 0 0 0]\n",
      " [1 0 0 0]]\n"
     ]
    }
   ],
   "source": [
    "print(Y)\n",
    "print(X)\n",
    "print(R)"
   ]
  },
  {
   "cell_type": "code",
   "execution_count": 268,
   "metadata": {},
   "outputs": [],
   "source": [
    "def cofiCostFunc(parms, Y, R, num_users, num_movies, num_featuers, penalty):\n",
    "    \"\"\"\n",
    "    %COFICOSTFUNC Collaborative filtering cost function\n",
    "    %   [J, grad] = COFICOSTFUNC(params, Y, R, num_users, num_movies, ...\n",
    "    %   num_features, lambda) returns the cost and gradient for the\n",
    "    %   collaborative filtering problem.\n",
    "    \"\"\"\n",
    "    # m = num_movies, k = num_features, n = num_users\n",
    "    \n",
    "    l = num_movies * num_features \n",
    "    \n",
    "    X = parms[:l].reshape(num_movies, num_features) # m * k\n",
    "    Theta = parms[l:].reshape(num_users, num_features) # n * k\n",
    "    \n",
    "    error = (X.dot(Theta.T) - Y) *R # m * n\n",
    "    J = np.sum(np.power(error, 2)) /2  + penalty/2* np.sum(np.power(Theta, 2)) \\\n",
    "    + penalty/2* np.sum(np.power(X, 2))\n",
    "    \n",
    "    X_grad = error.dot(Theta) + penalty * X  # m * k\n",
    "    Theta_grad = error.T.dot(X) + penalty * Theta # n*k\n",
    "        \n",
    "    grad = np.concatenate([X_grad.flatten(), Theta_grad.flatten()])\n",
    "    return J, grad \n",
    "    \n",
    "        "
   ]
  },
  {
   "cell_type": "code",
   "execution_count": 269,
   "metadata": {},
   "outputs": [],
   "source": [
    "J, grad = cofiCostFunc(np.concatenate([X.flatten(), Theta.flatten()]) , \n",
    "                 Y, R, num_users, num_movies, num_features, 1.5)"
   ]
  },
  {
   "cell_type": "code",
   "execution_count": 271,
   "metadata": {},
   "outputs": [
    {
     "name": "stdout",
     "output_type": "stream",
     "text": [
      "31.34405624427422\n",
      "[ -0.95596339   6.97535514  -0.10861109   0.60308088   2.77421145\n",
      "   0.25839822   0.12985616   4.0898522   -0.89247334   0.29684395\n",
      "   1.06300933   0.66738144   0.60252677   4.90185327  -0.19747928\n",
      " -10.13985478   2.10136256  -6.76563628  -2.29347024   0.48244098\n",
      "  -2.99791422  -0.64787484  -0.71820673   1.27006666   1.09289758\n",
      "  -0.40784086   0.49026541]\n"
     ]
    }
   ],
   "source": [
    "print(J)\n",
    "print(grad)"
   ]
  },
  {
   "cell_type": "markdown",
   "metadata": {},
   "source": [
    "# Learning Movie Ratings"
   ]
  },
  {
   "cell_type": "code",
   "execution_count": 443,
   "metadata": {},
   "outputs": [
    {
     "name": "stdout",
     "output_type": "stream",
     "text": [
      "['Toy Story (1995)', 'GoldenEye (1995)', 'Four Rooms (1995)', 'Get Shorty (1995)', 'Copycat (1995)']\n"
     ]
    }
   ],
   "source": [
    "movie_idx = []\n",
    "with open(os.path.join(base_dir, 'movie_ids.txt'), 'rb') as f: \n",
    "    for line in f:\n",
    "        tokens = [token.decode(\"ISO-8859-1\")  for token in line.split()]\n",
    "        #tokens[-1] = tokens[-1][:-1]\n",
    "        movie_idx.append(' '.join(tokens[1:])) \n",
    "print(movie_idx[:5])        "
   ]
  },
  {
   "cell_type": "code",
   "execution_count": 444,
   "metadata": {},
   "outputs": [
    {
     "name": "stdout",
     "output_type": "stream",
     "text": [
      "rating for move Toy Story (1995) is 4.0\n",
      "rating for move Twelve Monkeys (1995) is 3.0\n",
      "rating for move Usual Suspects, The (1995) is 5.0\n",
      "rating for move Outbreak (1995) is 4.0\n",
      "rating for move Shawshank Redemption, The (1994) is 5.0\n",
      "rating for move While You Were Sleeping (1995) is 3.0\n",
      "rating for move Forrest Gump (1994) is 5.0\n",
      "rating for move Silence of the Lambs, The (1991) is 2.0\n",
      "rating for move Alien (1979) is 4.0\n",
      "rating for move Die Hard 2 (1990) is 5.0\n",
      "rating for move Sphere (1998) is 5.0\n"
     ]
    }
   ],
   "source": [
    "ratings = np.zeros(m)\n",
    "ratings[0] = 4\n",
    "ratings[6] = 3\n",
    "ratings[11] = 5\n",
    "ratings[53] = 4\n",
    "ratings[63] = 5\n",
    "ratings[65] = 3\n",
    "ratings[68] = 5\n",
    "ratings[97] = 2\n",
    "ratings[182] = 4\n",
    "ratings[225] = 5\n",
    "ratings[354] = 5\n",
    "\n",
    "for i, r in enumerate(ratings):\n",
    "    if r > 0:\n",
    "        print(\"rating for move %s is %s\" %(movie_idx[i], r))\n",
    "    "
   ]
  },
  {
   "cell_type": "code",
   "execution_count": 445,
   "metadata": {},
   "outputs": [
    {
     "name": "stdout",
     "output_type": "stream",
     "text": [
      "(1682, 943)\n"
     ]
    }
   ],
   "source": [
    "data = loadmat(os.path.join(base_dir, 'ex8_movies.mat'))\n",
    "Y = data['Y']\n",
    "R = data['R']\n",
    "print (Y.shape)\n",
    "m = Y.shape[0]\n",
    "Y = np.hstack([Y, ratings.reshape(-1, 1)])\n",
    "R = np.hstack([R, (ratings !=0).reshape(-1, 1)])\n"
   ]
  },
  {
   "cell_type": "code",
   "execution_count": 446,
   "metadata": {},
   "outputs": [],
   "source": [
    "def normalizeRatings(Y, R):\n",
    "    m, n = Y.shape\n",
    "    Ymean = np.zeros(m)\n",
    "    Ynorm = np.zeros([m,n] )\n",
    "    for i in range(m):\n",
    "        idx = R[i, :]==1\n",
    "        Ymean[i] = Y[i, idx].mean()\n",
    "        Ynorm[i, idx] = Y[i, idx] - Ymean[i]\n",
    "        \n",
    "    return Ynorm, Ymean"
   ]
  },
  {
   "cell_type": "code",
   "execution_count": 447,
   "metadata": {},
   "outputs": [],
   "source": [
    "Y_norm, Ymean = normalizeRatings(Y, R)"
   ]
  },
  {
   "cell_type": "code",
   "execution_count": 448,
   "metadata": {},
   "outputs": [],
   "source": [
    "m, n = Y.shape\n",
    "k = 10 "
   ]
  },
  {
   "cell_type": "code",
   "execution_count": 449,
   "metadata": {},
   "outputs": [],
   "source": [
    "import scipy.optimize as opt\n",
    "init_parms = np.concatenate([X.ravel(), theta.ravel()])\n",
    "penalty = 10\n",
    "X = np.random.randn(m, k)\n",
    "theta = np.random.randn(n, k)\n",
    "# minimize the objective function\n",
    "fmin = opt.minimize(fun=cofiCostFunc, x0=init_parms, args=(Y_norm, R, n, m, k, penalty), jac=True, method='CG', options={'maxiter': 100})\n",
    "X_prime = np.reshape(fmin.x[:(m*k)], (m, k))\n",
    "theta_prime = np.reshape(fmin.x[(m*k):], (n, k))"
   ]
  },
  {
   "cell_type": "markdown",
   "metadata": {},
   "source": [
    "# Recommendation for you"
   ]
  },
  {
   "cell_type": "code",
   "execution_count": 451,
   "metadata": {},
   "outputs": [
    {
     "name": "stdout",
     "output_type": "stream",
     "text": [
      "top 10 recommened movies\n",
      "\n",
      "[[\"Someone Else's America (1995)\" '5.0000030705865015']\n",
      " ['Santa with Muscles (1996)' '5.000001042623582']\n",
      " ['Entertaining Angels: The Dorothy Day Story (1996)' '5.000000176760092']\n",
      " ['They Made Me a Criminal (1939)' '5.000000145919641']\n",
      " ['Star Kid (1997)' '4.999999915214624']\n",
      " ['Saint of Fort Washington, The (1993)' '4.9999998704008695']\n",
      " ['Marlene Dietrich: Shadow and Light (1996)' '4.9999998309739455']\n",
      " ['Aiqing wansui (1994)' '4.999999750163277']\n",
      " ['Great Day in Harlem, A (1994)' '4.99999723134891']\n",
      " ['Prefontaine (1997)' '4.999993948188811']] \n",
      "\n",
      "rating for move Toy Story (1995) is 4.0, predition is: 4.008139749682043\n",
      "rating for move Twelve Monkeys (1995) is 3.0, predition is: 3.769317763947699\n",
      "rating for move Usual Suspects, The (1995) is 5.0, predition is: 4.409421148586853\n",
      "rating for move Outbreak (1995) is 4.0, predition is: 3.4202239100116905\n",
      "rating for move Shawshank Redemption, The (1994) is 5.0, predition is: 4.551419694326167\n",
      "rating for move While You Were Sleeping (1995) is 3.0, predition is: 3.667059394165831\n",
      "rating for move Forrest Gump (1994) is 5.0, predition is: 4.101061297271326\n",
      "rating for move Silence of the Lambs, The (1991) is 2.0, predition is: 4.185350564460659\n",
      "rating for move Alien (1979) is 4.0, predition is: 4.0650997818048875\n",
      "rating for move Die Hard 2 (1990) is 5.0, predition is: 3.6340031535067787\n",
      "rating for move Sphere (1998) is 5.0, predition is: 3.080739486792664\n"
     ]
    }
   ],
   "source": [
    "predictions = X_prime.dot(theta_prime.T)[:, -1] + Ymean\n",
    "idx = np.argsort(predictions)[::-1]\n",
    "print(\"top 10 recommened movies\\n\")\n",
    "top_movies = np.array(movie_idx)[idx[:10]].reshape(-1, 1)\n",
    "top_scores = predictions[idx[:10]].reshape(-1, 1)\n",
    "print(np.hstack([top_movies, top_scores]), '\\n')\n",
    "\n",
    "for i, r in enumerate(ratings):\n",
    "    if r > 0:\n",
    "        print(\"rating for move %s is %s, predition is: %s\" %(movie_idx[i], r, predictions[i] ))\n"
   ]
  },
  {
   "cell_type": "code",
   "execution_count": null,
   "metadata": {
    "collapsed": true
   },
   "outputs": [],
   "source": []
  }
 ],
 "metadata": {
  "kernelspec": {
   "display_name": "Python 3",
   "language": "python",
   "name": "python3"
  },
  "language_info": {
   "codemirror_mode": {
    "name": "ipython",
    "version": 3
   },
   "file_extension": ".py",
   "mimetype": "text/x-python",
   "name": "python",
   "nbconvert_exporter": "python",
   "pygments_lexer": "ipython3",
   "version": "3.6.1"
  }
 },
 "nbformat": 4,
 "nbformat_minor": 2
}
